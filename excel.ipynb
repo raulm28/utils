{
 "cells": [
  {
   "cell_type": "code",
   "execution_count": 1,
   "metadata": {
    "collapsed": true
   },
   "outputs": [],
   "source": [
    "from dotenv import load_dotenv\n",
    "import pandas as pd\n",
    "import re\n",
    "import os\n",
    "import pymssql\n",
    "import numpy as np\n",
    "import pyodbc"
   ]
  },
  {
   "cell_type": "code",
   "execution_count": 2,
   "outputs": [],
   "source": [
    "pd.set_option('display.max_rows',150000)\n",
    "pd.set_option('display.max_columns',100)\n",
    "pd.set_option('display.width', 10000)\n",
    "load_dotenv('.env')\n",
    "cis_user = os.getenv('CISDBUSER')\n",
    "pwd = os.getenv('USERPASS')"
   ],
   "metadata": {
    "collapsed": false
   }
  },
  {
   "cell_type": "code",
   "execution_count": 3,
   "outputs": [],
   "source": [
    "cis_conn = pymssql.connect(server='SCISPSQLRDS',user=cis_user,password=pwd,database='PROD')\n",
    "rms_conn = pymssql.connect(server='SPTAPLSQLHPA',port='53130',user=cis_user,password=pwd,database='VMHPALIVE')\n",
    "cla_conn = pymssql.connect(server='AOEWSPSQLCLRT',port='58427',user=cis_user,password=pwd,database='DMSKPCLARITY')"
   ],
   "metadata": {
    "collapsed": false
   }
  },
  {
   "cell_type": "code",
   "execution_count": 141,
   "outputs": [],
   "source": [
    "# cursor = cis_conn.cursor()\n",
    "# sql1 = ''''''\n",
    "# df1 = pd.read_sql(sql1, cis_conn)\n",
    "# cursor.close()\n",
    "\n",
    "df1 = pd.read_excel('/Users/molinar1/Downloads/MyMSK_MRN_111722.xlsx')\n",
    "df1.columns = ['Race1ID','RACE','Race2ID','Race2Name','MRN']\n",
    "df1 = df1[['MRN','Race1ID','RACE','Race2ID','Race2Name']]\n",
    "df1['MRN'] = df1['MRN'].replace(' ','')\n",
    "df1['RACE'] = df1['RACE'].str.strip()\n",
    "df1 = df1[df1['MRN'] != '--------']"
   ],
   "metadata": {
    "collapsed": false
   }
  },
  {
   "cell_type": "code",
   "execution_count": 8,
   "outputs": [],
   "source": [
    "cursor = rms_conn.cursor()\n",
    "sql2 = '''select TOP 10000 * from dbo.ICLMBCTRVISPLNIX'''\n",
    "df2 = pd.read_sql(sql2, rms_conn)\n",
    "cursor.close()"
   ],
   "metadata": {
    "collapsed": false
   }
  },
  {
   "cell_type": "code",
   "execution_count": 10,
   "outputs": [
    {
     "name": "stderr",
     "output_type": "stream",
     "text": [
      "IOPub data rate exceeded.\n",
      "The notebook server will temporarily stop sending output\n",
      "to the client in order to avoid crashing it.\n",
      "To change this limit, set the config variable\n",
      "`--NotebookApp.iopub_data_rate_limit`.\n",
      "\n",
      "Current values:\n",
      "NotebookApp.iopub_data_rate_limit=1000000.0 (bytes/sec)\n",
      "NotebookApp.rate_limit_window=3.0 (secs)\n",
      "\n"
     ]
    }
   ],
   "source": [
    "df2 = df2.pivot_table(columns=['PLAN_ZZ','BCTR'], index='NUM')\n",
    "print(df2)"
   ],
   "metadata": {
    "collapsed": false
   }
  },
  {
   "cell_type": "code",
   "execution_count": 143,
   "outputs": [],
   "source": [
    "cursor = cla_conn.cursor()\n",
    "sql3 = '''select distinct PAT_MRN_ID [MRN],\n",
    "                r.NAME [RACE]\n",
    "          from dbo.PATIENT p\n",
    "          left join dbo.PATIENT_RACE pr\n",
    "          on p.PAT_ID = pr.PAT_ID\n",
    "          left join dbo.ZC_PATIENT_RACE r\n",
    "          on r.PATIENT_RACE_C = pr.PATIENT_RACE_C\n",
    "          where len(PAT_MRN_ID) = 8\n",
    "          --and DEATH_DATE is null'''\n",
    "df3 = pd.read_sql(sql3, cla_conn)\n",
    "cursor.close()"
   ],
   "metadata": {
    "collapsed": false
   }
  },
  {
   "cell_type": "code",
   "execution_count": 144,
   "outputs": [],
   "source": [
    "df4 = pd.read_excel('/Users/molinar1/Downloads/Metriq_Race_110322.xlsx')\n",
    "df4.columns = ['Metriq_MRN','MRN','RACE']"
   ],
   "metadata": {
    "collapsed": false
   }
  },
  {
   "cell_type": "code",
   "execution_count": 145,
   "outputs": [
    {
     "name": "stdout",
     "output_type": "stream",
     "text": [
      "Total rows for RMS: 1776133, Total rows for Clarity: 1745572, total rows for MyMSK: 67617, total rows for Metriq 443640\n"
     ]
    }
   ],
   "source": [
    "print(f\"Total rows for RMS: {df2.shape[0]}, Total rows for Clarity: {df3.shape[0]}, total rows for MyMSK: {df1.shape[0]}, total rows for Metriq {df4.shape[0]}\")"
   ],
   "metadata": {
    "collapsed": false
   }
  },
  {
   "cell_type": "code",
   "execution_count": 146,
   "outputs": [],
   "source": [
    "df = df2.merge(df3, on=['MRN'], suffixes=['_RMS','_CLA'],how='left', indicator=True)\n",
    "dfa = df2.merge(df3, on=['MRN'], suffixes=['_RMS','_CLA'],how='inner')\n",
    "\n",
    "dfb = df1.merge(df3, on=['MRN'], suffixes=['_MyMSK','_CLA'],how='left', indicator=True)\n",
    "dfc = df1.merge(df2, on=['MRN'], suffixes=['_MyMSK','_RMS'], how='left', indicator=True)\n",
    "\n",
    "dfd = df4.merge(df2, on=['MRN'], suffixes=['_RMS','_Metriq'], how='left', indicator=True)\n",
    "\n",
    "dfs = [dfc,dfd]"
   ],
   "metadata": {
    "collapsed": false
   }
  },
  {
   "cell_type": "code",
   "execution_count": 147,
   "outputs": [
    {
     "name": "stdout",
     "output_type": "stream",
     "text": [
      "RACE_MyMSK RACE_RMS\n",
      "67617\n",
      "RACE_RMS RACE_Metriq\n",
      "443640\n"
     ]
    }
   ],
   "source": [
    "for f in dfs:\n",
    "  race_match = []\n",
    "  match = []\n",
    "  for col in f.columns:\n",
    "    if 'RACE' in col:\n",
    "      match.append(col)\n",
    "\n",
    "  for idx, row in f.iterrows():\n",
    "    if str(row[match[0]]) == str(row[match[1]]).replace('-',' '):\n",
    "      race_match.append('Match')\n",
    "    else:\n",
    "      race_match.append('No Match')\n",
    "\n",
    "  f['RACE_MATCH'] = race_match"
   ],
   "metadata": {
    "collapsed": false
   }
  },
  {
   "cell_type": "code",
   "execution_count": 148,
   "outputs": [
    {
     "name": "stdout",
     "output_type": "stream",
     "text": [
      "67572 out of 67617 are a match, 99.93%, 45 MRNs not matched between Clarity and MyMSK\n",
      "67598 out of 67617 are a match, 99.97%, 19 MRNs not matched between RMS and MyMSK\n",
      "443631 out of 443640 are a match, 100.0%, 9 MRNs not matched between RMS and Metriq\n",
      "1745279 out of 1776143 are a match, 98.26%, 30864 MRNs not matched between Clarity and RMS\n"
     ]
    }
   ],
   "source": [
    "print(f\"{dfb[dfb['_merge'].isin(['both'])].reset_index().drop('index', axis=1).shape[0]} out of {dfb.shape[0]} are a match, {round(dfb[dfb['_merge'].isin(['both'])].reset_index().drop('index', axis=1).shape[0]/dfb.shape[0]*100,2)}%, {dfb[dfb['_merge'].isin(['left_only'])].reset_index().drop('index', axis=1).shape[0]} MRNs not matched between Clarity and MyMSK\")\n",
    "\n",
    "print(f\"{dfc[dfc['_merge'].isin(['both'])].reset_index().drop('index', axis=1).shape[0]} out of {dfc.shape[0]} are a match, {round(dfc[dfc['_merge'].isin(['both'])].reset_index().drop('index', axis=1).shape[0]/dfc.shape[0]*100,2)}%, {dfc[dfc['_merge'].isin(['left_only'])].reset_index().drop('index', axis=1).shape[0]} MRNs not matched between RMS and MyMSK\")\n",
    "\n",
    "print(f\"{dfd[dfd['_merge'].isin(['both'])].reset_index().drop('index', axis=1).shape[0]} out of {dfd.shape[0]} are a match, {round(dfd[dfd['_merge'].isin(['both'])].reset_index().drop('index', axis=1).shape[0]/dfd.shape[0]*100,2)}%, {dfd[dfd['_merge'].isin(['left_only'])].reset_index().drop('index', axis=1).shape[0]} MRNs not matched between RMS and Metriq\")\n",
    "\n",
    "print(f\"{df[df['_merge'].isin(['both'])].reset_index().drop('index', axis=1).shape[0]} out of {df.shape[0]} are a match, {round(df[df['_merge'].isin(['both'])].reset_index().drop('index', axis=1).shape[0]/df.shape[0]*100,2)}%, {df[df['_merge'].isin(['left_only'])].reset_index().drop('index', axis=1).shape[0]} MRNs not matched between Clarity and RMS\")"
   ],
   "metadata": {
    "collapsed": false
   }
  },
  {
   "cell_type": "code",
   "execution_count": null,
   "outputs": [],
   "source": [
    "dfb1 = dfb[dfb['_merge'].isin(['left_only'])].reset_index().drop('index', axis=1)\n",
    "dfc1 = dfc[dfc['_merge'].isin(['left_only'])].reset_index().drop('index', axis=1)\n",
    "dfd1 = dfd[dfd['_merge'].isin(['left_only'])].reset_index().drop('index', axis=1)\n",
    "file = 'MRN-Race-nomatch.xlsx'\n",
    "writer = pd.ExcelWriter(file, engine='xlsxwriter')\n",
    "dfb1.to_excel(writer, index=False, sheet_name='Clarity-MyMSK-NoMatch')\n",
    "dfc1.to_excel(writer, index=False, sheet_name='RMS-MyMSK-NoMatch')\n",
    "dfd1.to_excel(writer, index=False, sheet_name='RMS-Metriq-NoMatch')\n",
    "writer.save()"
   ],
   "metadata": {
    "collapsed": false
   }
  },
  {
   "cell_type": "code",
   "execution_count": 150,
   "outputs": [],
   "source": [
    "dfb1 = dfb[dfb['_merge'].isin(['both'])].reset_index().drop('index', axis=1)\n",
    "dfc1 = dfc[dfc['_merge'].isin(['both'])].reset_index().drop('index', axis=1)\n",
    "dfd1 = dfd[dfd['_merge'].isin(['both'])].reset_index().drop('index', axis=1)\n",
    "\n",
    "file = 'MRN-Race-Match.xlsx'\n",
    "writer = pd.ExcelWriter(file, engine='xlsxwriter')\n",
    "dfb1.to_excel(writer, index=False, sheet_name='Clarity-MyMSK-Match')\n",
    "dfc1.to_excel(writer, index=False, sheet_name='RMS-MyMSK-Match')\n",
    "dfd1.to_excel(writer, index=False, sheet_name='RMS-Metriq-Match')\n",
    "writer.save()"
   ],
   "metadata": {
    "collapsed": false
   }
  },
  {
   "cell_type": "code",
   "execution_count": null,
   "outputs": [],
   "source": [
    "half = round(df.shape[0]/2)\n",
    "halfa = round(dfa.shape[0]/2)\n",
    "\n",
    "file = 'MRN-RACE-Compare.xlsx'\n",
    "writer = pd.ExcelWriter(file, engine='xlsxwriter')\n",
    "\n",
    "df.iloc[:half,:].to_excel(writer, index=False, sheet_name='MRN_Pt1')\n",
    "df.iloc[half:,:].to_excel(writer, index=False, sheet_name='MRN_Pt2')\n",
    "dfa.iloc[:halfa,:].to_excel(writer, index=False, sheet_name='Matches_1')\n",
    "dfa.iloc[halfa:,:].to_excel(writer, index=False, sheet_name='Matches_2')\n",
    "writer.save()"
   ],
   "metadata": {
    "collapsed": false
   }
  }
 ],
 "metadata": {
  "kernelspec": {
   "display_name": "Python 3",
   "language": "python",
   "name": "python3"
  },
  "language_info": {
   "codemirror_mode": {
    "name": "ipython",
    "version": 2
   },
   "file_extension": ".py",
   "mimetype": "text/x-python",
   "name": "python",
   "nbconvert_exporter": "python",
   "pygments_lexer": "ipython2",
   "version": "2.7.6"
  }
 },
 "nbformat": 4,
 "nbformat_minor": 0
}
